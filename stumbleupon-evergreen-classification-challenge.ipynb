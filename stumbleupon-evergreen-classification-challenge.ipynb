{
 "cells": [
  {
   "cell_type": "code",
   "execution_count": 1,
   "id": "51748209",
   "metadata": {
    "_cell_guid": "b1076dfc-b9ad-4769-8c92-a6c4dae69d19",
    "_uuid": "8f2839f25d086af736a60e9eeb907d3b93b6e0e5",
    "execution": {
     "iopub.execute_input": "2022-05-23T17:03:05.677925Z",
     "iopub.status.busy": "2022-05-23T17:03:05.676701Z",
     "iopub.status.idle": "2022-05-23T17:03:05.690570Z",
     "shell.execute_reply": "2022-05-23T17:03:05.691144Z",
     "shell.execute_reply.started": "2022-05-23T17:01:58.033997Z"
    },
    "papermill": {
     "duration": 0.052376,
     "end_time": "2022-05-23T17:03:05.691437",
     "exception": false,
     "start_time": "2022-05-23T17:03:05.639061",
     "status": "completed"
    },
    "tags": []
   },
   "outputs": [
    {
     "name": "stdout",
     "output_type": "stream",
     "text": [
      "/kaggle/input/stumbleupon/test.tsv\n",
      "/kaggle/input/stumbleupon/train.tsv\n",
      "/kaggle/input/stumbleupon/sampleSubmission.csv\n",
      "/kaggle/input/stumbleupon/raw_content.zip\n"
     ]
    }
   ],
   "source": [
    "# This Python 3 environment comes with many helpful analytics libraries installed\n",
    "# It is defined by the kaggle/python Docker image: https://github.com/kaggle/docker-python\n",
    "# For example, here's several helpful packages to load\n",
    "\n",
    "import numpy as np # linear algebra\n",
    "import pandas as pd # data processing, CSV file I/O (e.g. pd.read_csv)\n",
    "\n",
    "# Input data files are available in the read-only \"../input/\" directory\n",
    "# For example, running this (by clicking run or pressing Shift+Enter) will list all files under the input directory\n",
    "\n",
    "import os\n",
    "for dirname, _, filenames in os.walk('/kaggle/input'):\n",
    "    for filename in filenames:\n",
    "        print(os.path.join(dirname, filename))\n",
    "\n",
    "# You can write up to 20GB to the current directory (/kaggle/working/) that gets preserved as output when you create a version using \"Save & Run All\" \n",
    "# You can also write temporary files to /kaggle/temp/, but they won't be saved outside of the current session"
   ]
  },
  {
   "cell_type": "code",
   "execution_count": 2,
   "id": "1d64fe5a",
   "metadata": {
    "execution": {
     "iopub.execute_input": "2022-05-23T17:03:05.760151Z",
     "iopub.status.busy": "2022-05-23T17:03:05.759500Z",
     "iopub.status.idle": "2022-05-23T17:03:05.762771Z",
     "shell.execute_reply": "2022-05-23T17:03:05.763317Z",
     "shell.execute_reply.started": "2022-05-23T17:01:58.063369Z"
    },
    "papermill": {
     "duration": 0.038602,
     "end_time": "2022-05-23T17:03:05.763516",
     "exception": false,
     "start_time": "2022-05-23T17:03:05.724914",
     "status": "completed"
    },
    "tags": []
   },
   "outputs": [],
   "source": [
    "#import os\n",
    "#for dirname, _, filenames in os.walk('../input/stumbleupon'):\n",
    " #   for filename in filenames:\n",
    "  #      print(os.path.join(dirname, filename))"
   ]
  },
  {
   "cell_type": "code",
   "execution_count": 3,
   "id": "bed8ee84",
   "metadata": {
    "execution": {
     "iopub.execute_input": "2022-05-23T17:03:05.831366Z",
     "iopub.status.busy": "2022-05-23T17:03:05.830753Z",
     "iopub.status.idle": "2022-05-23T17:03:06.593648Z",
     "shell.execute_reply": "2022-05-23T17:03:06.592957Z",
     "shell.execute_reply.started": "2022-05-23T17:01:58.070775Z"
    },
    "papermill": {
     "duration": 0.797935,
     "end_time": "2022-05-23T17:03:06.593875",
     "exception": false,
     "start_time": "2022-05-23T17:03:05.795940",
     "status": "completed"
    },
    "tags": []
   },
   "outputs": [
    {
     "name": "stdout",
     "output_type": "stream",
     "text": [
      "__notebook__.ipynb\r\n"
     ]
    }
   ],
   "source": [
    "!ls"
   ]
  },
  {
   "cell_type": "code",
   "execution_count": null,
   "id": "2712e43b",
   "metadata": {
    "papermill": {
     "duration": 0.032396,
     "end_time": "2022-05-23T17:03:06.659695",
     "exception": false,
     "start_time": "2022-05-23T17:03:06.627299",
     "status": "completed"
    },
    "tags": []
   },
   "outputs": [],
   "source": []
  },
  {
   "cell_type": "markdown",
   "id": "05160e7d",
   "metadata": {
    "papermill": {
     "duration": 0.032565,
     "end_time": "2022-05-23T17:03:06.725718",
     "exception": false,
     "start_time": "2022-05-23T17:03:06.693153",
     "status": "completed"
    },
    "tags": []
   },
   "source": [
    "#  **Data analysis.**"
   ]
  },
  {
   "cell_type": "code",
   "execution_count": 4,
   "id": "bc50f7db",
   "metadata": {
    "execution": {
     "iopub.execute_input": "2022-05-23T17:03:06.795235Z",
     "iopub.status.busy": "2022-05-23T17:03:06.794453Z",
     "iopub.status.idle": "2022-05-23T17:03:06.797719Z",
     "shell.execute_reply": "2022-05-23T17:03:06.798243Z",
     "shell.execute_reply.started": "2022-05-23T17:01:58.860951Z"
    },
    "papermill": {
     "duration": 0.040253,
     "end_time": "2022-05-23T17:03:06.798406",
     "exception": false,
     "start_time": "2022-05-23T17:03:06.758153",
     "status": "completed"
    },
    "tags": []
   },
   "outputs": [],
   "source": [
    "import pandas as pd\n",
    "import numpy as np"
   ]
  },
  {
   "cell_type": "code",
   "execution_count": 5,
   "id": "2d13c870",
   "metadata": {
    "execution": {
     "iopub.execute_input": "2022-05-23T17:03:06.869228Z",
     "iopub.status.busy": "2022-05-23T17:03:06.868533Z",
     "iopub.status.idle": "2022-05-23T17:03:07.408169Z",
     "shell.execute_reply": "2022-05-23T17:03:07.407599Z",
     "shell.execute_reply.started": "2022-05-23T17:01:58.868962Z"
    },
    "papermill": {
     "duration": 0.575237,
     "end_time": "2022-05-23T17:03:07.408309",
     "exception": false,
     "start_time": "2022-05-23T17:03:06.833072",
     "status": "completed"
    },
    "tags": []
   },
   "outputs": [
    {
     "name": "stderr",
     "output_type": "stream",
     "text": [
      "/opt/conda/lib/python3.7/site-packages/ipykernel_launcher.py:6: FutureWarning: The default value of regex will change from True to False in a future version. In addition, single character regular expressions will *not* be treated as literal strings when regex=True.\n",
      "  \n"
     ]
    }
   ],
   "source": [
    "raw_df = pd.read_csv('../input/stumbleupon/train.tsv', sep='\\t')\n",
    "df = raw_df.copy()\n",
    "del df['framebased']\n",
    "del df['urlid']\n",
    "del df['alchemy_category_score']\n",
    "df['is_news'] = df['is_news'].str.replace('?', '0').astype(int)"
   ]
  },
  {
   "cell_type": "code",
   "execution_count": 6,
   "id": "8e968d94",
   "metadata": {
    "execution": {
     "iopub.execute_input": "2022-05-23T17:03:07.481371Z",
     "iopub.status.busy": "2022-05-23T17:03:07.480086Z",
     "iopub.status.idle": "2022-05-23T17:03:07.506965Z",
     "shell.execute_reply": "2022-05-23T17:03:07.507517Z",
     "shell.execute_reply.started": "2022-05-23T17:01:59.167882Z"
    },
    "papermill": {
     "duration": 0.066175,
     "end_time": "2022-05-23T17:03:07.507705",
     "exception": false,
     "start_time": "2022-05-23T17:03:07.441530",
     "status": "completed"
    },
    "tags": []
   },
   "outputs": [
    {
     "data": {
      "text/html": [
       "<div>\n",
       "<style scoped>\n",
       "    .dataframe tbody tr th:only-of-type {\n",
       "        vertical-align: middle;\n",
       "    }\n",
       "\n",
       "    .dataframe tbody tr th {\n",
       "        vertical-align: top;\n",
       "    }\n",
       "\n",
       "    .dataframe thead th {\n",
       "        text-align: right;\n",
       "    }\n",
       "</style>\n",
       "<table border=\"1\" class=\"dataframe\">\n",
       "  <thead>\n",
       "    <tr style=\"text-align: right;\">\n",
       "      <th></th>\n",
       "      <th>2690</th>\n",
       "      <th>6536</th>\n",
       "    </tr>\n",
       "  </thead>\n",
       "  <tbody>\n",
       "    <tr>\n",
       "      <th>url</th>\n",
       "      <td>http://www.fashionserved.com/Gallery/Urban-Que...</td>\n",
       "      <td>http://www.ourbestbites.com/2010/10/easy-hallo...</td>\n",
       "    </tr>\n",
       "    <tr>\n",
       "      <th>boilerplate</th>\n",
       "      <td>{\"title\":\"Urban Queens on Fashion Served urban...</td>\n",
       "      <td>{\"title\":\"Easy Halloween Party Food Our Best B...</td>\n",
       "    </tr>\n",
       "    <tr>\n",
       "      <th>alchemy_category</th>\n",
       "      <td>business</td>\n",
       "      <td>?</td>\n",
       "    </tr>\n",
       "    <tr>\n",
       "      <th>avglinksize</th>\n",
       "      <td>2.670886</td>\n",
       "      <td>1.553968</td>\n",
       "    </tr>\n",
       "    <tr>\n",
       "      <th>commonlinkratio_1</th>\n",
       "      <td>0.60241</td>\n",
       "      <td>0.780564</td>\n",
       "    </tr>\n",
       "    <tr>\n",
       "      <th>commonlinkratio_2</th>\n",
       "      <td>0.39759</td>\n",
       "      <td>0.412226</td>\n",
       "    </tr>\n",
       "    <tr>\n",
       "      <th>commonlinkratio_3</th>\n",
       "      <td>0.108434</td>\n",
       "      <td>0.280564</td>\n",
       "    </tr>\n",
       "    <tr>\n",
       "      <th>commonlinkratio_4</th>\n",
       "      <td>0.072289</td>\n",
       "      <td>0.260188</td>\n",
       "    </tr>\n",
       "    <tr>\n",
       "      <th>compression_ratio</th>\n",
       "      <td>0.406528</td>\n",
       "      <td>0.444928</td>\n",
       "    </tr>\n",
       "    <tr>\n",
       "      <th>embed_ratio</th>\n",
       "      <td>0.0</td>\n",
       "      <td>0.0</td>\n",
       "    </tr>\n",
       "    <tr>\n",
       "      <th>frameTagRatio</th>\n",
       "      <td>0.085828</td>\n",
       "      <td>0.006817</td>\n",
       "    </tr>\n",
       "    <tr>\n",
       "      <th>hasDomainLink</th>\n",
       "      <td>0</td>\n",
       "      <td>0</td>\n",
       "    </tr>\n",
       "    <tr>\n",
       "      <th>html_ratio</th>\n",
       "      <td>0.204236</td>\n",
       "      <td>0.1632</td>\n",
       "    </tr>\n",
       "    <tr>\n",
       "      <th>image_ratio</th>\n",
       "      <td>0.53125</td>\n",
       "      <td>0.068858</td>\n",
       "    </tr>\n",
       "    <tr>\n",
       "      <th>is_news</th>\n",
       "      <td>1</td>\n",
       "      <td>0</td>\n",
       "    </tr>\n",
       "    <tr>\n",
       "      <th>lengthyLinkDomain</th>\n",
       "      <td>1</td>\n",
       "      <td>1</td>\n",
       "    </tr>\n",
       "    <tr>\n",
       "      <th>linkwordscore</th>\n",
       "      <td>54</td>\n",
       "      <td>13</td>\n",
       "    </tr>\n",
       "    <tr>\n",
       "      <th>news_front_page</th>\n",
       "      <td>0</td>\n",
       "      <td>?</td>\n",
       "    </tr>\n",
       "    <tr>\n",
       "      <th>non_markup_alphanum_characters</th>\n",
       "      <td>1063</td>\n",
       "      <td>29331</td>\n",
       "    </tr>\n",
       "    <tr>\n",
       "      <th>numberOfLinks</th>\n",
       "      <td>83</td>\n",
       "      <td>638</td>\n",
       "    </tr>\n",
       "    <tr>\n",
       "      <th>numwords_in_url</th>\n",
       "      <td>3</td>\n",
       "      <td>4</td>\n",
       "    </tr>\n",
       "    <tr>\n",
       "      <th>parametrizedLinkRatio</th>\n",
       "      <td>0.493976</td>\n",
       "      <td>0.266458</td>\n",
       "    </tr>\n",
       "    <tr>\n",
       "      <th>spelling_errors_ratio</th>\n",
       "      <td>0.288889</td>\n",
       "      <td>0.08165</td>\n",
       "    </tr>\n",
       "    <tr>\n",
       "      <th>label</th>\n",
       "      <td>0</td>\n",
       "      <td>0</td>\n",
       "    </tr>\n",
       "  </tbody>\n",
       "</table>\n",
       "</div>"
      ],
      "text/plain": [
       "                                                                             2690  \\\n",
       "url                             http://www.fashionserved.com/Gallery/Urban-Que...   \n",
       "boilerplate                     {\"title\":\"Urban Queens on Fashion Served urban...   \n",
       "alchemy_category                                                         business   \n",
       "avglinksize                                                              2.670886   \n",
       "commonlinkratio_1                                                         0.60241   \n",
       "commonlinkratio_2                                                         0.39759   \n",
       "commonlinkratio_3                                                        0.108434   \n",
       "commonlinkratio_4                                                        0.072289   \n",
       "compression_ratio                                                        0.406528   \n",
       "embed_ratio                                                                   0.0   \n",
       "frameTagRatio                                                            0.085828   \n",
       "hasDomainLink                                                                   0   \n",
       "html_ratio                                                               0.204236   \n",
       "image_ratio                                                               0.53125   \n",
       "is_news                                                                         1   \n",
       "lengthyLinkDomain                                                               1   \n",
       "linkwordscore                                                                  54   \n",
       "news_front_page                                                                 0   \n",
       "non_markup_alphanum_characters                                               1063   \n",
       "numberOfLinks                                                                  83   \n",
       "numwords_in_url                                                                 3   \n",
       "parametrizedLinkRatio                                                    0.493976   \n",
       "spelling_errors_ratio                                                    0.288889   \n",
       "label                                                                           0   \n",
       "\n",
       "                                                                             6536  \n",
       "url                             http://www.ourbestbites.com/2010/10/easy-hallo...  \n",
       "boilerplate                     {\"title\":\"Easy Halloween Party Food Our Best B...  \n",
       "alchemy_category                                                                ?  \n",
       "avglinksize                                                              1.553968  \n",
       "commonlinkratio_1                                                        0.780564  \n",
       "commonlinkratio_2                                                        0.412226  \n",
       "commonlinkratio_3                                                        0.280564  \n",
       "commonlinkratio_4                                                        0.260188  \n",
       "compression_ratio                                                        0.444928  \n",
       "embed_ratio                                                                   0.0  \n",
       "frameTagRatio                                                            0.006817  \n",
       "hasDomainLink                                                                   0  \n",
       "html_ratio                                                                 0.1632  \n",
       "image_ratio                                                              0.068858  \n",
       "is_news                                                                         0  \n",
       "lengthyLinkDomain                                                               1  \n",
       "linkwordscore                                                                  13  \n",
       "news_front_page                                                                 ?  \n",
       "non_markup_alphanum_characters                                              29331  \n",
       "numberOfLinks                                                                 638  \n",
       "numwords_in_url                                                                 4  \n",
       "parametrizedLinkRatio                                                    0.266458  \n",
       "spelling_errors_ratio                                                     0.08165  \n",
       "label                                                                           0  "
      ]
     },
     "execution_count": 6,
     "metadata": {},
     "output_type": "execute_result"
    }
   ],
   "source": [
    "df.sample(2).T"
   ]
  },
  {
   "cell_type": "code",
   "execution_count": 7,
   "id": "cdf4de3a",
   "metadata": {
    "execution": {
     "iopub.execute_input": "2022-05-23T17:03:07.585027Z",
     "iopub.status.busy": "2022-05-23T17:03:07.581427Z",
     "iopub.status.idle": "2022-05-23T17:03:07.588086Z",
     "shell.execute_reply": "2022-05-23T17:03:07.588584Z",
     "shell.execute_reply.started": "2022-05-23T17:01:59.193256Z"
    },
    "papermill": {
     "duration": 0.045151,
     "end_time": "2022-05-23T17:03:07.588770",
     "exception": false,
     "start_time": "2022-05-23T17:03:07.543619",
     "status": "completed"
    },
    "tags": []
   },
   "outputs": [
    {
     "data": {
      "text/plain": [
       "0.5133198106828939"
      ]
     },
     "execution_count": 7,
     "metadata": {},
     "output_type": "execute_result"
    }
   ],
   "source": [
    "df.label.mean()"
   ]
  },
  {
   "cell_type": "code",
   "execution_count": 8,
   "id": "82e789ef",
   "metadata": {
    "execution": {
     "iopub.execute_input": "2022-05-23T17:03:07.662870Z",
     "iopub.status.busy": "2022-05-23T17:03:07.662131Z",
     "iopub.status.idle": "2022-05-23T17:03:08.021011Z",
     "shell.execute_reply": "2022-05-23T17:03:08.020349Z",
     "shell.execute_reply.started": "2022-05-23T17:01:59.203463Z"
    },
    "papermill": {
     "duration": 0.397103,
     "end_time": "2022-05-23T17:03:08.021300",
     "exception": false,
     "start_time": "2022-05-23T17:03:07.624197",
     "status": "completed"
    },
    "tags": []
   },
   "outputs": [
    {
     "data": {
      "text/plain": [
       "<AxesSubplot:ylabel='alchemy_category'>"
      ]
     },
     "execution_count": 8,
     "metadata": {},
     "output_type": "execute_result"
    },
    {
     "data": {
      "image/png": "[encoded data removed]",
      "text/plain": [
       "<Figure size 432x288 with 1 Axes>"
      ]
     },
     "metadata": {
      "needs_background": "light"
     },
     "output_type": "display_data"
    }
   ],
   "source": [
    "df.groupby('alchemy_category').label.agg(['mean', 'count']).sort_values('count', ascending=False)['mean'].plot.barh()"
   ]
  },
  {
   "cell_type": "code",
   "execution_count": 9,
   "id": "41cdc7f7",
   "metadata": {
    "execution": {
     "iopub.execute_input": "2022-05-23T17:03:08.101210Z",
     "iopub.status.busy": "2022-05-23T17:03:08.100323Z",
     "iopub.status.idle": "2022-05-23T17:03:09.687206Z",
     "shell.execute_reply": "2022-05-23T17:03:09.686513Z",
     "shell.execute_reply.started": "2022-05-23T17:01:59.526403Z"
    },
    "papermill": {
     "duration": 1.629407,
     "end_time": "2022-05-23T17:03:09.687357",
     "exception": false,
     "start_time": "2022-05-23T17:03:08.057950",
     "status": "completed"
    },
    "tags": []
   },
   "outputs": [
    {
     "data": {
      "text/plain": [
       "<AxesSubplot:>"
      ]
     },
     "execution_count": 9,
     "metadata": {},
     "output_type": "execute_result"
    },
    {
     "data": {
      "image/png": "[encoded data removed]",
      "text/plain": [
       "<Figure size 432x288 with 2 Axes>"
      ]
     },
     "metadata": {
      "needs_background": "light"
     },
     "output_type": "display_data"
    }
   ],
   "source": [
    "import seaborn as sns\n",
    "sns.heatmap(df.corr('spearman').abs()[['label']].sort_values('label'))"
   ]
  },
  {
   "cell_type": "code",
   "execution_count": 10,
   "id": "6b436086",
   "metadata": {
    "execution": {
     "iopub.execute_input": "2022-05-23T17:03:09.770910Z",
     "iopub.status.busy": "2022-05-23T17:03:09.770135Z",
     "iopub.status.idle": "2022-05-23T17:03:10.339107Z",
     "shell.execute_reply": "2022-05-23T17:03:10.339617Z",
     "shell.execute_reply.started": "2022-05-23T17:02:00.472370Z"
    },
    "papermill": {
     "duration": 0.613743,
     "end_time": "2022-05-23T17:03:10.339787",
     "exception": false,
     "start_time": "2022-05-23T17:03:09.726044",
     "status": "completed"
    },
    "tags": []
   },
   "outputs": [
    {
     "data": {
      "text/plain": [
       "<AxesSubplot:>"
      ]
     },
     "execution_count": 10,
     "metadata": {},
     "output_type": "execute_result"
    },
    {
     "data": {
      "image/png": "[encoded data removed]",
      "text/plain": [
       "<Figure size 432x288 with 2 Axes>"
      ]
     },
     "metadata": {
      "needs_background": "light"
     },
     "output_type": "display_data"
    }
   ],
   "source": [
    "sns.heatmap(df.corr().abs())"
   ]
  },
  {
   "cell_type": "code",
   "execution_count": 11,
   "id": "40333088",
   "metadata": {
    "execution": {
     "iopub.execute_input": "2022-05-23T17:03:10.422620Z",
     "iopub.status.busy": "2022-05-23T17:03:10.421635Z",
     "iopub.status.idle": "2022-05-23T17:03:10.669904Z",
     "shell.execute_reply": "2022-05-23T17:03:10.670360Z",
     "shell.execute_reply.started": "2022-05-23T17:02:01.063874Z"
    },
    "papermill": {
     "duration": 0.291612,
     "end_time": "2022-05-23T17:03:10.670575",
     "exception": false,
     "start_time": "2022-05-23T17:03:10.378963",
     "status": "completed"
    },
    "tags": []
   },
   "outputs": [
    {
     "data": {
      "text/plain": [
       "<AxesSubplot:xlabel='label', ylabel='linkwordscore'>"
      ]
     },
     "execution_count": 11,
     "metadata": {},
     "output_type": "execute_result"
    },
    {
     "data": {
      "image/png": "[encoded data removed]",
      "text/plain": [
       "<Figure size 432x288 with 1 Axes>"
      ]
     },
     "metadata": {
      "needs_background": "light"
     },
     "output_type": "display_data"
    }
   ],
   "source": [
    "sns.violinplot(x='label', y='linkwordscore', data=df)"
   ]
  },
  {
   "cell_type": "code",
   "execution_count": 12,
   "id": "53b3cb86",
   "metadata": {
    "execution": {
     "iopub.execute_input": "2022-05-23T17:03:10.764574Z",
     "iopub.status.busy": "2022-05-23T17:03:10.763909Z",
     "iopub.status.idle": "2022-05-23T17:03:10.788968Z",
     "shell.execute_reply": "2022-05-23T17:03:10.789522Z",
     "shell.execute_reply.started": "2022-05-23T17:02:01.304130Z"
    },
    "papermill": {
     "duration": 0.070847,
     "end_time": "2022-05-23T17:03:10.789700",
     "exception": false,
     "start_time": "2022-05-23T17:03:10.718853",
     "status": "completed"
    },
    "tags": []
   },
   "outputs": [
    {
     "data": {
      "text/html": [
       "<div>\n",
       "<style scoped>\n",
       "    .dataframe tbody tr th:only-of-type {\n",
       "        vertical-align: middle;\n",
       "    }\n",
       "\n",
       "    .dataframe tbody tr th {\n",
       "        vertical-align: top;\n",
       "    }\n",
       "\n",
       "    .dataframe thead th {\n",
       "        text-align: right;\n",
       "    }\n",
       "</style>\n",
       "<table border=\"1\" class=\"dataframe\">\n",
       "  <thead>\n",
       "    <tr style=\"text-align: right;\">\n",
       "      <th></th>\n",
       "      <th>avglinksize</th>\n",
       "      <th>commonlinkratio_1</th>\n",
       "      <th>commonlinkratio_2</th>\n",
       "      <th>commonlinkratio_3</th>\n",
       "      <th>commonlinkratio_4</th>\n",
       "      <th>compression_ratio</th>\n",
       "      <th>embed_ratio</th>\n",
       "      <th>frameTagRatio</th>\n",
       "      <th>hasDomainLink</th>\n",
       "      <th>html_ratio</th>\n",
       "      <th>image_ratio</th>\n",
       "      <th>is_news</th>\n",
       "      <th>lengthyLinkDomain</th>\n",
       "      <th>linkwordscore</th>\n",
       "      <th>non_markup_alphanum_characters</th>\n",
       "      <th>numberOfLinks</th>\n",
       "      <th>numwords_in_url</th>\n",
       "      <th>parametrizedLinkRatio</th>\n",
       "      <th>spelling_errors_ratio</th>\n",
       "    </tr>\n",
       "  </thead>\n",
       "  <tbody>\n",
       "    <tr>\n",
       "      <th>1458</th>\n",
       "      <td>1.842912</td>\n",
       "      <td>0.503731</td>\n",
       "      <td>0.123134</td>\n",
       "      <td>0.052239</td>\n",
       "      <td>0.018657</td>\n",
       "      <td>0.482205</td>\n",
       "      <td>0.0</td>\n",
       "      <td>0.037037</td>\n",
       "      <td>0</td>\n",
       "      <td>0.190899</td>\n",
       "      <td>0.129496</td>\n",
       "      <td>1</td>\n",
       "      <td>1</td>\n",
       "      <td>36</td>\n",
       "      <td>4107</td>\n",
       "      <td>268</td>\n",
       "      <td>7</td>\n",
       "      <td>0.033582</td>\n",
       "      <td>0.089157</td>\n",
       "    </tr>\n",
       "    <tr>\n",
       "      <th>5800</th>\n",
       "      <td>1.946429</td>\n",
       "      <td>0.403509</td>\n",
       "      <td>0.087719</td>\n",
       "      <td>0.070175</td>\n",
       "      <td>0.017544</td>\n",
       "      <td>0.533237</td>\n",
       "      <td>0.0</td>\n",
       "      <td>0.125413</td>\n",
       "      <td>0</td>\n",
       "      <td>0.286715</td>\n",
       "      <td>0.094488</td>\n",
       "      <td>1</td>\n",
       "      <td>0</td>\n",
       "      <td>32</td>\n",
       "      <td>1127</td>\n",
       "      <td>57</td>\n",
       "      <td>0</td>\n",
       "      <td>0.017544</td>\n",
       "      <td>0.048387</td>\n",
       "    </tr>\n",
       "    <tr>\n",
       "      <th>5029</th>\n",
       "      <td>2.236364</td>\n",
       "      <td>0.454545</td>\n",
       "      <td>0.327273</td>\n",
       "      <td>0.181818</td>\n",
       "      <td>0.036364</td>\n",
       "      <td>0.584337</td>\n",
       "      <td>0.0</td>\n",
       "      <td>0.083612</td>\n",
       "      <td>0</td>\n",
       "      <td>0.243838</td>\n",
       "      <td>0.112245</td>\n",
       "      <td>0</td>\n",
       "      <td>1</td>\n",
       "      <td>28</td>\n",
       "      <td>1419</td>\n",
       "      <td>55</td>\n",
       "      <td>0</td>\n",
       "      <td>0.054545</td>\n",
       "      <td>0.076923</td>\n",
       "    </tr>\n",
       "    <tr>\n",
       "      <th>7006</th>\n",
       "      <td>2.425234</td>\n",
       "      <td>0.603509</td>\n",
       "      <td>0.473684</td>\n",
       "      <td>0.007018</td>\n",
       "      <td>0.000000</td>\n",
       "      <td>0.378462</td>\n",
       "      <td>0.0</td>\n",
       "      <td>0.013265</td>\n",
       "      <td>0</td>\n",
       "      <td>0.177243</td>\n",
       "      <td>0.036192</td>\n",
       "      <td>1</td>\n",
       "      <td>1</td>\n",
       "      <td>14</td>\n",
       "      <td>15895</td>\n",
       "      <td>285</td>\n",
       "      <td>4</td>\n",
       "      <td>0.343860</td>\n",
       "      <td>0.071203</td>\n",
       "    </tr>\n",
       "    <tr>\n",
       "      <th>6843</th>\n",
       "      <td>1.953488</td>\n",
       "      <td>0.586207</td>\n",
       "      <td>0.379310</td>\n",
       "      <td>0.103448</td>\n",
       "      <td>0.022989</td>\n",
       "      <td>0.394143</td>\n",
       "      <td>0.0</td>\n",
       "      <td>0.032836</td>\n",
       "      <td>0</td>\n",
       "      <td>0.236503</td>\n",
       "      <td>0.030207</td>\n",
       "      <td>1</td>\n",
       "      <td>0</td>\n",
       "      <td>20</td>\n",
       "      <td>3328</td>\n",
       "      <td>87</td>\n",
       "      <td>5</td>\n",
       "      <td>0.160920</td>\n",
       "      <td>0.085284</td>\n",
       "    </tr>\n",
       "  </tbody>\n",
       "</table>\n",
       "</div>"
      ],
      "text/plain": [
       "      avglinksize  commonlinkratio_1  commonlinkratio_2  commonlinkratio_3  \\\n",
       "1458     1.842912           0.503731           0.123134           0.052239   \n",
       "5800     1.946429           0.403509           0.087719           0.070175   \n",
       "5029     2.236364           0.454545           0.327273           0.181818   \n",
       "7006     2.425234           0.603509           0.473684           0.007018   \n",
       "6843     1.953488           0.586207           0.379310           0.103448   \n",
       "\n",
       "      commonlinkratio_4  compression_ratio  embed_ratio  frameTagRatio  \\\n",
       "1458           0.018657           0.482205          0.0       0.037037   \n",
       "5800           0.017544           0.533237          0.0       0.125413   \n",
       "5029           0.036364           0.584337          0.0       0.083612   \n",
       "7006           0.000000           0.378462          0.0       0.013265   \n",
       "6843           0.022989           0.394143          0.0       0.032836   \n",
       "\n",
       "      hasDomainLink  html_ratio  image_ratio  is_news  lengthyLinkDomain  \\\n",
       "1458              0    0.190899     0.129496        1                  1   \n",
       "5800              0    0.286715     0.094488        1                  0   \n",
       "5029              0    0.243838     0.112245        0                  1   \n",
       "7006              0    0.177243     0.036192        1                  1   \n",
       "6843              0    0.236503     0.030207        1                  0   \n",
       "\n",
       "      linkwordscore  non_markup_alphanum_characters  numberOfLinks  \\\n",
       "1458             36                            4107            268   \n",
       "5800             32                            1127             57   \n",
       "5029             28                            1419             55   \n",
       "7006             14                           15895            285   \n",
       "6843             20                            3328             87   \n",
       "\n",
       "      numwords_in_url  parametrizedLinkRatio  spelling_errors_ratio  \n",
       "1458                7               0.033582               0.089157  \n",
       "5800                0               0.017544               0.048387  \n",
       "5029                0               0.054545               0.076923  \n",
       "7006                4               0.343860               0.071203  \n",
       "6843                5               0.160920               0.085284  "
      ]
     },
     "execution_count": 12,
     "metadata": {},
     "output_type": "execute_result"
    }
   ],
   "source": [
    "features_df = df.drop('label', axis=1)\n",
    "num_features = features_df.select_dtypes(np.number)\n",
    "num_features.sample(5)"
   ]
  },
  {
   "cell_type": "code",
   "execution_count": 13,
   "id": "a3817c80",
   "metadata": {
    "execution": {
     "iopub.execute_input": "2022-05-23T17:03:10.876181Z",
     "iopub.status.busy": "2022-05-23T17:03:10.875385Z",
     "iopub.status.idle": "2022-05-23T17:03:10.880515Z",
     "shell.execute_reply": "2022-05-23T17:03:10.881120Z",
     "shell.execute_reply.started": "2022-05-23T17:02:01.338039Z"
    },
    "papermill": {
     "duration": 0.04997,
     "end_time": "2022-05-23T17:03:10.881288",
     "exception": false,
     "start_time": "2022-05-23T17:03:10.831318",
     "status": "completed"
    },
    "tags": []
   },
   "outputs": [
    {
     "data": {
      "text/plain": [
       "Index(['avglinksize', 'commonlinkratio_1', 'commonlinkratio_2',\n",
       "       'commonlinkratio_3', 'commonlinkratio_4', 'compression_ratio',\n",
       "       'embed_ratio', 'frameTagRatio', 'hasDomainLink', 'html_ratio',\n",
       "       'image_ratio', 'is_news', 'lengthyLinkDomain', 'linkwordscore',\n",
       "       'non_markup_alphanum_characters', 'numberOfLinks', 'numwords_in_url',\n",
       "       'parametrizedLinkRatio', 'spelling_errors_ratio'],\n",
       "      dtype='object')"
      ]
     },
     "execution_count": 13,
     "metadata": {},
     "output_type": "execute_result"
    }
   ],
   "source": [
    "num_features.columns"
   ]
  },
  {
   "cell_type": "code",
   "execution_count": 14,
   "id": "6486cdd6",
   "metadata": {
    "execution": {
     "iopub.execute_input": "2022-05-23T17:03:10.969997Z",
     "iopub.status.busy": "2022-05-23T17:03:10.969292Z",
     "iopub.status.idle": "2022-05-23T17:03:11.033838Z",
     "shell.execute_reply": "2022-05-23T17:03:11.034349Z",
     "shell.execute_reply.started": "2022-05-23T17:02:01.350531Z"
    },
    "papermill": {
     "duration": 0.110762,
     "end_time": "2022-05-23T17:03:11.034538",
     "exception": false,
     "start_time": "2022-05-23T17:03:10.923776",
     "status": "completed"
    },
    "tags": []
   },
   "outputs": [
    {
     "data": {
      "text/html": [
       "<div>\n",
       "<style scoped>\n",
       "    .dataframe tbody tr th:only-of-type {\n",
       "        vertical-align: middle;\n",
       "    }\n",
       "\n",
       "    .dataframe tbody tr th {\n",
       "        vertical-align: top;\n",
       "    }\n",
       "\n",
       "    .dataframe thead th {\n",
       "        text-align: right;\n",
       "    }\n",
       "</style>\n",
       "<table border=\"1\" class=\"dataframe\">\n",
       "  <thead>\n",
       "    <tr style=\"text-align: right;\">\n",
       "      <th></th>\n",
       "      <th>avglinksize</th>\n",
       "      <th>commonlinkratio_1</th>\n",
       "      <th>commonlinkratio_2</th>\n",
       "      <th>commonlinkratio_3</th>\n",
       "      <th>commonlinkratio_4</th>\n",
       "      <th>compression_ratio</th>\n",
       "      <th>embed_ratio</th>\n",
       "      <th>frameTagRatio</th>\n",
       "      <th>hasDomainLink</th>\n",
       "      <th>html_ratio</th>\n",
       "      <th>image_ratio</th>\n",
       "      <th>is_news</th>\n",
       "      <th>lengthyLinkDomain</th>\n",
       "      <th>linkwordscore</th>\n",
       "      <th>non_markup_alphanum_characters</th>\n",
       "      <th>numberOfLinks</th>\n",
       "      <th>numwords_in_url</th>\n",
       "      <th>parametrizedLinkRatio</th>\n",
       "      <th>spelling_errors_ratio</th>\n",
       "    </tr>\n",
       "  </thead>\n",
       "  <tbody>\n",
       "    <tr>\n",
       "      <th>count</th>\n",
       "      <td>7395.000000</td>\n",
       "      <td>7395.000000</td>\n",
       "      <td>7395.000000</td>\n",
       "      <td>7395.000000</td>\n",
       "      <td>7395.000000</td>\n",
       "      <td>7395.000000</td>\n",
       "      <td>7395.000000</td>\n",
       "      <td>7395.000000</td>\n",
       "      <td>7395.000000</td>\n",
       "      <td>7395.000000</td>\n",
       "      <td>7395.000000</td>\n",
       "      <td>7395.000000</td>\n",
       "      <td>7395.000000</td>\n",
       "      <td>7395.000000</td>\n",
       "      <td>7395.000000</td>\n",
       "      <td>7395.000000</td>\n",
       "      <td>7395.000000</td>\n",
       "      <td>7395.000000</td>\n",
       "      <td>7395.000000</td>\n",
       "    </tr>\n",
       "    <tr>\n",
       "      <th>mean</th>\n",
       "      <td>2.761823</td>\n",
       "      <td>0.468230</td>\n",
       "      <td>0.214080</td>\n",
       "      <td>0.092062</td>\n",
       "      <td>0.049262</td>\n",
       "      <td>2.255103</td>\n",
       "      <td>-0.103750</td>\n",
       "      <td>0.056423</td>\n",
       "      <td>0.021231</td>\n",
       "      <td>0.233778</td>\n",
       "      <td>0.275709</td>\n",
       "      <td>0.615551</td>\n",
       "      <td>0.660311</td>\n",
       "      <td>30.077079</td>\n",
       "      <td>5716.598242</td>\n",
       "      <td>178.754564</td>\n",
       "      <td>4.960649</td>\n",
       "      <td>0.172864</td>\n",
       "      <td>0.101221</td>\n",
       "    </tr>\n",
       "    <tr>\n",
       "      <th>std</th>\n",
       "      <td>8.619793</td>\n",
       "      <td>0.203133</td>\n",
       "      <td>0.146743</td>\n",
       "      <td>0.095978</td>\n",
       "      <td>0.072629</td>\n",
       "      <td>5.704313</td>\n",
       "      <td>0.306545</td>\n",
       "      <td>0.041446</td>\n",
       "      <td>0.144162</td>\n",
       "      <td>0.052487</td>\n",
       "      <td>1.919320</td>\n",
       "      <td>0.486498</td>\n",
       "      <td>0.473636</td>\n",
       "      <td>20.393101</td>\n",
       "      <td>8875.432430</td>\n",
       "      <td>179.466198</td>\n",
       "      <td>3.233111</td>\n",
       "      <td>0.183286</td>\n",
       "      <td>0.079231</td>\n",
       "    </tr>\n",
       "    <tr>\n",
       "      <th>min</th>\n",
       "      <td>0.000000</td>\n",
       "      <td>0.000000</td>\n",
       "      <td>0.000000</td>\n",
       "      <td>0.000000</td>\n",
       "      <td>0.000000</td>\n",
       "      <td>0.000000</td>\n",
       "      <td>-1.000000</td>\n",
       "      <td>0.000000</td>\n",
       "      <td>0.000000</td>\n",
       "      <td>0.045564</td>\n",
       "      <td>-1.000000</td>\n",
       "      <td>0.000000</td>\n",
       "      <td>0.000000</td>\n",
       "      <td>0.000000</td>\n",
       "      <td>0.000000</td>\n",
       "      <td>1.000000</td>\n",
       "      <td>0.000000</td>\n",
       "      <td>0.000000</td>\n",
       "      <td>0.000000</td>\n",
       "    </tr>\n",
       "    <tr>\n",
       "      <th>25%</th>\n",
       "      <td>1.602062</td>\n",
       "      <td>0.340370</td>\n",
       "      <td>0.105263</td>\n",
       "      <td>0.022222</td>\n",
       "      <td>0.000000</td>\n",
       "      <td>0.442616</td>\n",
       "      <td>0.000000</td>\n",
       "      <td>0.028502</td>\n",
       "      <td>0.000000</td>\n",
       "      <td>0.201061</td>\n",
       "      <td>0.025900</td>\n",
       "      <td>0.000000</td>\n",
       "      <td>0.000000</td>\n",
       "      <td>14.000000</td>\n",
       "      <td>1579.000000</td>\n",
       "      <td>82.000000</td>\n",
       "      <td>3.000000</td>\n",
       "      <td>0.040984</td>\n",
       "      <td>0.068739</td>\n",
       "    </tr>\n",
       "    <tr>\n",
       "      <th>50%</th>\n",
       "      <td>2.088235</td>\n",
       "      <td>0.481481</td>\n",
       "      <td>0.202454</td>\n",
       "      <td>0.068627</td>\n",
       "      <td>0.022222</td>\n",
       "      <td>0.483680</td>\n",
       "      <td>0.000000</td>\n",
       "      <td>0.045775</td>\n",
       "      <td>0.000000</td>\n",
       "      <td>0.230564</td>\n",
       "      <td>0.083051</td>\n",
       "      <td>1.000000</td>\n",
       "      <td>1.000000</td>\n",
       "      <td>25.000000</td>\n",
       "      <td>3500.000000</td>\n",
       "      <td>139.000000</td>\n",
       "      <td>5.000000</td>\n",
       "      <td>0.113402</td>\n",
       "      <td>0.089312</td>\n",
       "    </tr>\n",
       "    <tr>\n",
       "      <th>75%</th>\n",
       "      <td>2.627451</td>\n",
       "      <td>0.616604</td>\n",
       "      <td>0.300000</td>\n",
       "      <td>0.133333</td>\n",
       "      <td>0.065065</td>\n",
       "      <td>0.578227</td>\n",
       "      <td>0.000000</td>\n",
       "      <td>0.073459</td>\n",
       "      <td>0.000000</td>\n",
       "      <td>0.260770</td>\n",
       "      <td>0.236700</td>\n",
       "      <td>1.000000</td>\n",
       "      <td>1.000000</td>\n",
       "      <td>43.000000</td>\n",
       "      <td>6377.000000</td>\n",
       "      <td>222.000000</td>\n",
       "      <td>7.000000</td>\n",
       "      <td>0.241299</td>\n",
       "      <td>0.112376</td>\n",
       "    </tr>\n",
       "    <tr>\n",
       "      <th>max</th>\n",
       "      <td>363.000000</td>\n",
       "      <td>1.000000</td>\n",
       "      <td>1.000000</td>\n",
       "      <td>0.980392</td>\n",
       "      <td>0.980392</td>\n",
       "      <td>21.000000</td>\n",
       "      <td>0.250000</td>\n",
       "      <td>0.444444</td>\n",
       "      <td>1.000000</td>\n",
       "      <td>0.716883</td>\n",
       "      <td>113.333333</td>\n",
       "      <td>1.000000</td>\n",
       "      <td>1.000000</td>\n",
       "      <td>100.000000</td>\n",
       "      <td>207952.000000</td>\n",
       "      <td>4997.000000</td>\n",
       "      <td>22.000000</td>\n",
       "      <td>1.000000</td>\n",
       "      <td>1.000000</td>\n",
       "    </tr>\n",
       "  </tbody>\n",
       "</table>\n",
       "</div>"
      ],
      "text/plain": [
       "       avglinksize  commonlinkratio_1  commonlinkratio_2  commonlinkratio_3  \\\n",
       "count  7395.000000        7395.000000        7395.000000        7395.000000   \n",
       "mean      2.761823           0.468230           0.214080           0.092062   \n",
       "std       8.619793           0.203133           0.146743           0.095978   \n",
       "min       0.000000           0.000000           0.000000           0.000000   \n",
       "25%       1.602062           0.340370           0.105263           0.022222   \n",
       "50%       2.088235           0.481481           0.202454           0.068627   \n",
       "75%       2.627451           0.616604           0.300000           0.133333   \n",
       "max     363.000000           1.000000           1.000000           0.980392   \n",
       "\n",
       "       commonlinkratio_4  compression_ratio  embed_ratio  frameTagRatio  \\\n",
       "count        7395.000000        7395.000000  7395.000000    7395.000000   \n",
       "mean            0.049262           2.255103    -0.103750       0.056423   \n",
       "std             0.072629           5.704313     0.306545       0.041446   \n",
       "min             0.000000           0.000000    -1.000000       0.000000   \n",
       "25%             0.000000           0.442616     0.000000       0.028502   \n",
       "50%             0.022222           0.483680     0.000000       0.045775   \n",
       "75%             0.065065           0.578227     0.000000       0.073459   \n",
       "max             0.980392          21.000000     0.250000       0.444444   \n",
       "\n",
       "       hasDomainLink   html_ratio  image_ratio      is_news  \\\n",
       "count    7395.000000  7395.000000  7395.000000  7395.000000   \n",
       "mean        0.021231     0.233778     0.275709     0.615551   \n",
       "std         0.144162     0.052487     1.919320     0.486498   \n",
       "min         0.000000     0.045564    -1.000000     0.000000   \n",
       "25%         0.000000     0.201061     0.025900     0.000000   \n",
       "50%         0.000000     0.230564     0.083051     1.000000   \n",
       "75%         0.000000     0.260770     0.236700     1.000000   \n",
       "max         1.000000     0.716883   113.333333     1.000000   \n",
       "\n",
       "       lengthyLinkDomain  linkwordscore  non_markup_alphanum_characters  \\\n",
       "count        7395.000000    7395.000000                     7395.000000   \n",
       "mean            0.660311      30.077079                     5716.598242   \n",
       "std             0.473636      20.393101                     8875.432430   \n",
       "min             0.000000       0.000000                        0.000000   \n",
       "25%             0.000000      14.000000                     1579.000000   \n",
       "50%             1.000000      25.000000                     3500.000000   \n",
       "75%             1.000000      43.000000                     6377.000000   \n",
       "max             1.000000     100.000000                   207952.000000   \n",
       "\n",
       "       numberOfLinks  numwords_in_url  parametrizedLinkRatio  \\\n",
       "count    7395.000000      7395.000000            7395.000000   \n",
       "mean      178.754564         4.960649               0.172864   \n",
       "std       179.466198         3.233111               0.183286   \n",
       "min         1.000000         0.000000               0.000000   \n",
       "25%        82.000000         3.000000               0.040984   \n",
       "50%       139.000000         5.000000               0.113402   \n",
       "75%       222.000000         7.000000               0.241299   \n",
       "max      4997.000000        22.000000               1.000000   \n",
       "\n",
       "       spelling_errors_ratio  \n",
       "count            7395.000000  \n",
       "mean                0.101221  \n",
       "std                 0.079231  \n",
       "min                 0.000000  \n",
       "25%                 0.068739  \n",
       "50%                 0.089312  \n",
       "75%                 0.112376  \n",
       "max                 1.000000  "
      ]
     },
     "execution_count": 14,
     "metadata": {},
     "output_type": "execute_result"
    }
   ],
   "source": [
    "num_features.describe()"
   ]
  },
  {
   "cell_type": "code",
   "execution_count": 15,
   "id": "a1da8990",
   "metadata": {
    "execution": {
     "iopub.execute_input": "2022-05-23T17:03:11.124990Z",
     "iopub.status.busy": "2022-05-23T17:03:11.124290Z",
     "iopub.status.idle": "2022-05-23T17:03:11.138448Z",
     "shell.execute_reply": "2022-05-23T17:03:11.137874Z",
     "shell.execute_reply.started": "2022-05-23T17:02:01.437783Z"
    },
    "papermill": {
     "duration": 0.060923,
     "end_time": "2022-05-23T17:03:11.138657",
     "exception": false,
     "start_time": "2022-05-23T17:03:11.077734",
     "status": "completed"
    },
    "tags": []
   },
   "outputs": [
    {
     "name": "stderr",
     "output_type": "stream",
     "text": [
      "/opt/conda/lib/python3.7/site-packages/ipykernel_launcher.py:1: DeprecationWarning: `np.object` is a deprecated alias for the builtin `object`. To silence this warning, use `object` by itself. Doing this will not modify any behavior and is safe. \n",
      "Deprecated in NumPy 1.20; for more details and guidance: https://numpy.org/devdocs/release/1.20.0-notes.html#deprecations\n",
      "  \"\"\"Entry point for launching an IPython kernel.\n"
     ]
    },
    {
     "data": {
      "text/html": [
       "<div>\n",
       "<style scoped>\n",
       "    .dataframe tbody tr th:only-of-type {\n",
       "        vertical-align: middle;\n",
       "    }\n",
       "\n",
       "    .dataframe tbody tr th {\n",
       "        vertical-align: top;\n",
       "    }\n",
       "\n",
       "    .dataframe thead th {\n",
       "        text-align: right;\n",
       "    }\n",
       "</style>\n",
       "<table border=\"1\" class=\"dataframe\">\n",
       "  <thead>\n",
       "    <tr style=\"text-align: right;\">\n",
       "      <th></th>\n",
       "      <th>alchemy_category</th>\n",
       "      <th>news_front_page</th>\n",
       "    </tr>\n",
       "  </thead>\n",
       "  <tbody>\n",
       "    <tr>\n",
       "      <th>0</th>\n",
       "      <td>business</td>\n",
       "      <td>0</td>\n",
       "    </tr>\n",
       "    <tr>\n",
       "      <th>1</th>\n",
       "      <td>recreation</td>\n",
       "      <td>0</td>\n",
       "    </tr>\n",
       "    <tr>\n",
       "      <th>2</th>\n",
       "      <td>health</td>\n",
       "      <td>0</td>\n",
       "    </tr>\n",
       "    <tr>\n",
       "      <th>3</th>\n",
       "      <td>health</td>\n",
       "      <td>0</td>\n",
       "    </tr>\n",
       "    <tr>\n",
       "      <th>4</th>\n",
       "      <td>sports</td>\n",
       "      <td>0</td>\n",
       "    </tr>\n",
       "  </tbody>\n",
       "</table>\n",
       "</div>"
      ],
      "text/plain": [
       "  alchemy_category news_front_page\n",
       "0         business               0\n",
       "1       recreation               0\n",
       "2           health               0\n",
       "3           health               0\n",
       "4           sports               0"
      ]
     },
     "execution_count": 15,
     "metadata": {},
     "output_type": "execute_result"
    }
   ],
   "source": [
    "cat_features = df.select_dtypes(include=[np.object])\n",
    "cat_features = cat_features[['alchemy_category', 'news_front_page']]\n",
    "cat_features.head(5)"
   ]
  },
  {
   "cell_type": "code",
   "execution_count": 16,
   "id": "fee8ce01",
   "metadata": {
    "execution": {
     "iopub.execute_input": "2022-05-23T17:03:11.234715Z",
     "iopub.status.busy": "2022-05-23T17:03:11.234023Z",
     "iopub.status.idle": "2022-05-23T17:03:11.251029Z",
     "shell.execute_reply": "2022-05-23T17:03:11.251550Z",
     "shell.execute_reply.started": "2022-05-23T17:02:01.452982Z"
    },
    "papermill": {
     "duration": 0.068657,
     "end_time": "2022-05-23T17:03:11.251737",
     "exception": false,
     "start_time": "2022-05-23T17:03:11.183080",
     "status": "completed"
    },
    "tags": []
   },
   "outputs": [
    {
     "data": {
      "text/html": [
       "<div>\n",
       "<style scoped>\n",
       "    .dataframe tbody tr th:only-of-type {\n",
       "        vertical-align: middle;\n",
       "    }\n",
       "\n",
       "    .dataframe tbody tr th {\n",
       "        vertical-align: top;\n",
       "    }\n",
       "\n",
       "    .dataframe thead th {\n",
       "        text-align: right;\n",
       "    }\n",
       "</style>\n",
       "<table border=\"1\" class=\"dataframe\">\n",
       "  <thead>\n",
       "    <tr style=\"text-align: right;\">\n",
       "      <th></th>\n",
       "      <th>alchemy_category_?</th>\n",
       "      <th>alchemy_category_arts_entertainment</th>\n",
       "      <th>alchemy_category_business</th>\n",
       "      <th>alchemy_category_computer_internet</th>\n",
       "      <th>alchemy_category_culture_politics</th>\n",
       "      <th>alchemy_category_gaming</th>\n",
       "      <th>alchemy_category_health</th>\n",
       "      <th>alchemy_category_law_crime</th>\n",
       "      <th>alchemy_category_recreation</th>\n",
       "      <th>alchemy_category_religion</th>\n",
       "      <th>alchemy_category_science_technology</th>\n",
       "      <th>alchemy_category_sports</th>\n",
       "      <th>alchemy_category_unknown</th>\n",
       "      <th>alchemy_category_weather</th>\n",
       "      <th>news_front_page_0</th>\n",
       "      <th>news_front_page_1</th>\n",
       "      <th>news_front_page_?</th>\n",
       "    </tr>\n",
       "  </thead>\n",
       "  <tbody>\n",
       "    <tr>\n",
       "      <th>0</th>\n",
       "      <td>0</td>\n",
       "      <td>0</td>\n",
       "      <td>1</td>\n",
       "      <td>0</td>\n",
       "      <td>0</td>\n",
       "      <td>0</td>\n",
       "      <td>0</td>\n",
       "      <td>0</td>\n",
       "      <td>0</td>\n",
       "      <td>0</td>\n",
       "      <td>0</td>\n",
       "      <td>0</td>\n",
       "      <td>0</td>\n",
       "      <td>0</td>\n",
       "      <td>1</td>\n",
       "      <td>0</td>\n",
       "      <td>0</td>\n",
       "    </tr>\n",
       "    <tr>\n",
       "      <th>1</th>\n",
       "      <td>0</td>\n",
       "      <td>0</td>\n",
       "      <td>0</td>\n",
       "      <td>0</td>\n",
       "      <td>0</td>\n",
       "      <td>0</td>\n",
       "      <td>0</td>\n",
       "      <td>0</td>\n",
       "      <td>1</td>\n",
       "      <td>0</td>\n",
       "      <td>0</td>\n",
       "      <td>0</td>\n",
       "      <td>0</td>\n",
       "      <td>0</td>\n",
       "      <td>1</td>\n",
       "      <td>0</td>\n",
       "      <td>0</td>\n",
       "    </tr>\n",
       "    <tr>\n",
       "      <th>2</th>\n",
       "      <td>0</td>\n",
       "      <td>0</td>\n",
       "      <td>0</td>\n",
       "      <td>0</td>\n",
       "      <td>0</td>\n",
       "      <td>0</td>\n",
       "      <td>1</td>\n",
       "      <td>0</td>\n",
       "      <td>0</td>\n",
       "      <td>0</td>\n",
       "      <td>0</td>\n",
       "      <td>0</td>\n",
       "      <td>0</td>\n",
       "      <td>0</td>\n",
       "      <td>1</td>\n",
       "      <td>0</td>\n",
       "      <td>0</td>\n",
       "    </tr>\n",
       "    <tr>\n",
       "      <th>3</th>\n",
       "      <td>0</td>\n",
       "      <td>0</td>\n",
       "      <td>0</td>\n",
       "      <td>0</td>\n",
       "      <td>0</td>\n",
       "      <td>0</td>\n",
       "      <td>1</td>\n",
       "      <td>0</td>\n",
       "      <td>0</td>\n",
       "      <td>0</td>\n",
       "      <td>0</td>\n",
       "      <td>0</td>\n",
       "      <td>0</td>\n",
       "      <td>0</td>\n",
       "      <td>1</td>\n",
       "      <td>0</td>\n",
       "      <td>0</td>\n",
       "    </tr>\n",
       "    <tr>\n",
       "      <th>4</th>\n",
       "      <td>0</td>\n",
       "      <td>0</td>\n",
       "      <td>0</td>\n",
       "      <td>0</td>\n",
       "      <td>0</td>\n",
       "      <td>0</td>\n",
       "      <td>0</td>\n",
       "      <td>0</td>\n",
       "      <td>0</td>\n",
       "      <td>0</td>\n",
       "      <td>0</td>\n",
       "      <td>1</td>\n",
       "      <td>0</td>\n",
       "      <td>0</td>\n",
       "      <td>1</td>\n",
       "      <td>0</td>\n",
       "      <td>0</td>\n",
       "    </tr>\n",
       "  </tbody>\n",
       "</table>\n",
       "</div>"
      ],
      "text/plain": [
       "   alchemy_category_?  alchemy_category_arts_entertainment  \\\n",
       "0                   0                                    0   \n",
       "1                   0                                    0   \n",
       "2                   0                                    0   \n",
       "3                   0                                    0   \n",
       "4                   0                                    0   \n",
       "\n",
       "   alchemy_category_business  alchemy_category_computer_internet  \\\n",
       "0                          1                                   0   \n",
       "1                          0                                   0   \n",
       "2                          0                                   0   \n",
       "3                          0                                   0   \n",
       "4                          0                                   0   \n",
       "\n",
       "   alchemy_category_culture_politics  alchemy_category_gaming  \\\n",
       "0                                  0                        0   \n",
       "1                                  0                        0   \n",
       "2                                  0                        0   \n",
       "3                                  0                        0   \n",
       "4                                  0                        0   \n",
       "\n",
       "   alchemy_category_health  alchemy_category_law_crime  \\\n",
       "0                        0                           0   \n",
       "1                        0                           0   \n",
       "2                        1                           0   \n",
       "3                        1                           0   \n",
       "4                        0                           0   \n",
       "\n",
       "   alchemy_category_recreation  alchemy_category_religion  \\\n",
       "0                            0                          0   \n",
       "1                            1                          0   \n",
       "2                            0                          0   \n",
       "3                            0                          0   \n",
       "4                            0                          0   \n",
       "\n",
       "   alchemy_category_science_technology  alchemy_category_sports  \\\n",
       "0                                    0                        0   \n",
       "1                                    0                        0   \n",
       "2                                    0                        0   \n",
       "3                                    0                        0   \n",
       "4                                    0                        1   \n",
       "\n",
       "   alchemy_category_unknown  alchemy_category_weather  news_front_page_0  \\\n",
       "0                         0                         0                  1   \n",
       "1                         0                         0                  1   \n",
       "2                         0                         0                  1   \n",
       "3                         0                         0                  1   \n",
       "4                         0                         0                  1   \n",
       "\n",
       "   news_front_page_1  news_front_page_?  \n",
       "0                  0                  0  \n",
       "1                  0                  0  \n",
       "2                  0                  0  \n",
       "3                  0                  0  \n",
       "4                  0                  0  "
      ]
     },
     "execution_count": 16,
     "metadata": {},
     "output_type": "execute_result"
    }
   ],
   "source": [
    "pd.get_dummies(cat_features).head(5)"
   ]
  },
  {
   "cell_type": "markdown",
   "id": "1db30a17",
   "metadata": {
    "papermill": {
     "duration": 0.044821,
     "end_time": "2022-05-23T17:03:11.342094",
     "exception": false,
     "start_time": "2022-05-23T17:03:11.297273",
     "status": "completed"
    },
    "tags": []
   },
   "source": [
    "# **Modeling.**"
   ]
  },
  {
   "cell_type": "code",
   "execution_count": 17,
   "id": "45f9d0c7",
   "metadata": {
    "execution": {
     "iopub.execute_input": "2022-05-23T17:03:11.441819Z",
     "iopub.status.busy": "2022-05-23T17:03:11.440979Z",
     "iopub.status.idle": "2022-05-23T17:03:11.815697Z",
     "shell.execute_reply": "2022-05-23T17:03:11.815049Z",
     "shell.execute_reply.started": "2022-05-23T17:02:01.485699Z"
    },
    "papermill": {
     "duration": 0.428272,
     "end_time": "2022-05-23T17:03:11.815846",
     "exception": false,
     "start_time": "2022-05-23T17:03:11.387574",
     "status": "completed"
    },
    "tags": []
   },
   "outputs": [],
   "source": [
    "# More robust way to do feature pre-processing.\n",
    "from sklearn.pipeline import Pipeline\n",
    "from sklearn.compose import ColumnTransformer\n",
    "from sklearn.preprocessing import OneHotEncoder, StandardScaler\n",
    "from sklearn.impute import SimpleImputer\n",
    "from sklearn.compose import ColumnTransformer\n",
    "\n",
    "features_df = df.drop('label', axis=1)\n",
    "FEATURE_COLUMNS = features_df.columns\n",
    "NUM_FEATURES = features_df.select_dtypes(include=[np.number]).columns\n",
    "CAT_FEATURES = ['alchemy_category', 'news_front_page']\n",
    "\n",
    "numeric_transformer = Pipeline(steps=[\n",
    "    ('imputer', SimpleImputer(missing_values=np.nan, strategy='constant', fill_value=0)),\n",
    "    ('scaler', StandardScaler()),\n",
    "])\n",
    "\n",
    "categorical_transformer = Pipeline(steps=[\n",
    "    ('imputer', SimpleImputer(strategy='constant', fill_value='missing')),\n",
    "    ('one_hot', OneHotEncoder(handle_unknown='ignore')),\n",
    "])\n",
    "\n",
    "preprocessor = ColumnTransformer(\n",
    "  transformers=[\n",
    "      ('num', numeric_transformer, NUM_FEATURES),\n",
    "      ('cat', categorical_transformer, CAT_FEATURES)\n",
    "  ])"
   ]
  },
  {
   "cell_type": "code",
   "execution_count": 18,
   "id": "987be44b",
   "metadata": {
    "execution": {
     "iopub.execute_input": "2022-05-23T17:03:11.908736Z",
     "iopub.status.busy": "2022-05-23T17:03:11.907911Z",
     "iopub.status.idle": "2022-05-23T17:03:11.942931Z",
     "shell.execute_reply": "2022-05-23T17:03:11.943528Z",
     "shell.execute_reply.started": "2022-05-23T17:02:01.617905Z"
    },
    "papermill": {
     "duration": 0.083046,
     "end_time": "2022-05-23T17:03:11.943704",
     "exception": false,
     "start_time": "2022-05-23T17:03:11.860658",
     "status": "completed"
    },
    "tags": []
   },
   "outputs": [
    {
     "data": {
      "text/plain": [
       "(7395, 36)"
      ]
     },
     "execution_count": 18,
     "metadata": {},
     "output_type": "execute_result"
    }
   ],
   "source": [
    "features_df = preprocessor.fit_transform(df.drop('label', axis=1))\n",
    "features_df.shape"
   ]
  },
  {
   "cell_type": "code",
   "execution_count": 19,
   "id": "f8b5f98c",
   "metadata": {
    "execution": {
     "iopub.execute_input": "2022-05-23T17:03:12.039041Z",
     "iopub.status.busy": "2022-05-23T17:03:12.038350Z",
     "iopub.status.idle": "2022-05-23T17:03:12.044038Z",
     "shell.execute_reply": "2022-05-23T17:03:12.044603Z",
     "shell.execute_reply.started": "2022-05-23T17:02:01.667664Z"
    },
    "papermill": {
     "duration": 0.054968,
     "end_time": "2022-05-23T17:03:12.044777",
     "exception": false,
     "start_time": "2022-05-23T17:03:11.989809",
     "status": "completed"
    },
    "tags": []
   },
   "outputs": [
    {
     "data": {
      "text/plain": [
       "array([[-0.08194111,  1.02520913, -0.05586734, ...,  1.        ,\n",
       "         0.        ,  0.        ],\n",
       "       [ 0.10629082,  0.19589891,  0.50902122, ...,  1.        ,\n",
       "         0.        ,  0.        ],\n",
       "       [-0.04396462,  0.46172309,  0.73347932, ...,  1.        ,\n",
       "         0.        ,  0.        ],\n",
       "       ...,\n",
       "       [-0.08838666, -0.75049855, -0.29323563, ...,  1.        ,\n",
       "         0.        ,  0.        ],\n",
       "       [-0.20135342, -1.26873084, -1.10028781, ...,  0.        ,\n",
       "         1.        ,  0.        ],\n",
       "       [-0.18605119,  0.18553935,  1.46466303, ...,  0.        ,\n",
       "         0.        ,  1.        ]])"
      ]
     },
     "execution_count": 19,
     "metadata": {},
     "output_type": "execute_result"
    }
   ],
   "source": [
    "features_df"
   ]
  },
  {
   "cell_type": "code",
   "execution_count": 20,
   "id": "a4f6e8de",
   "metadata": {
    "execution": {
     "iopub.execute_input": "2022-05-23T17:03:12.142899Z",
     "iopub.status.busy": "2022-05-23T17:03:12.140435Z",
     "iopub.status.idle": "2022-05-23T17:03:12.145854Z",
     "shell.execute_reply": "2022-05-23T17:03:12.146459Z",
     "shell.execute_reply.started": "2022-05-23T17:02:01.680471Z"
    },
    "papermill": {
     "duration": 0.055065,
     "end_time": "2022-05-23T17:03:12.146663",
     "exception": false,
     "start_time": "2022-05-23T17:03:12.091598",
     "status": "completed"
    },
    "tags": []
   },
   "outputs": [
    {
     "data": {
      "text/plain": [
       "(7395,)"
      ]
     },
     "execution_count": 20,
     "metadata": {},
     "output_type": "execute_result"
    }
   ],
   "source": [
    "target = df['label']\n",
    "target.shape"
   ]
  },
  {
   "cell_type": "code",
   "execution_count": 21,
   "id": "225a8ba2",
   "metadata": {
    "execution": {
     "iopub.execute_input": "2022-05-23T17:03:12.243434Z",
     "iopub.status.busy": "2022-05-23T17:03:12.242758Z",
     "iopub.status.idle": "2022-05-23T17:03:12.246488Z",
     "shell.execute_reply": "2022-05-23T17:03:12.247020Z",
     "shell.execute_reply.started": "2022-05-23T17:02:01.707667Z"
    },
    "papermill": {
     "duration": 0.055144,
     "end_time": "2022-05-23T17:03:12.247196",
     "exception": false,
     "start_time": "2022-05-23T17:03:12.192052",
     "status": "completed"
    },
    "tags": []
   },
   "outputs": [],
   "source": [
    "from sklearn.model_selection import train_test_split\n",
    "x_train, x_test, y_train, y_test = train_test_split(features_df, target, test_size=0.25)"
   ]
  },
  {
   "cell_type": "code",
   "execution_count": 22,
   "id": "c9a9dd3e",
   "metadata": {
    "execution": {
     "iopub.execute_input": "2022-05-23T17:03:12.341738Z",
     "iopub.status.busy": "2022-05-23T17:03:12.340997Z",
     "iopub.status.idle": "2022-05-23T17:03:12.450900Z",
     "shell.execute_reply": "2022-05-23T17:03:12.450283Z",
     "shell.execute_reply.started": "2022-05-23T17:02:01.727716Z"
    },
    "papermill": {
     "duration": 0.158456,
     "end_time": "2022-05-23T17:03:12.451075",
     "exception": false,
     "start_time": "2022-05-23T17:03:12.292619",
     "status": "completed"
    },
    "tags": []
   },
   "outputs": [],
   "source": [
    "from sklearn.dummy import DummyClassifier\n",
    "from sklearn.linear_model import LogisticRegressionCV\n",
    "from sklearn.ensemble import RandomForestClassifier\n",
    "\n",
    "baseline = DummyClassifier(strategy='most_frequent')\n",
    "model = LogisticRegressionCV()\n",
    "#model = RandomForestClassifier()"
   ]
  },
  {
   "cell_type": "code",
   "execution_count": 23,
   "id": "cf2f89a6",
   "metadata": {
    "execution": {
     "iopub.execute_input": "2022-05-23T17:03:12.545296Z",
     "iopub.status.busy": "2022-05-23T17:03:12.544590Z",
     "iopub.status.idle": "2022-05-23T17:03:15.179543Z",
     "shell.execute_reply": "2022-05-23T17:03:15.180445Z",
     "shell.execute_reply.started": "2022-05-23T17:02:01.773141Z"
    },
    "papermill": {
     "duration": 2.683961,
     "end_time": "2022-05-23T17:03:15.180739",
     "exception": false,
     "start_time": "2022-05-23T17:03:12.496778",
     "status": "completed"
    },
    "tags": []
   },
   "outputs": [
    {
     "name": "stderr",
     "output_type": "stream",
     "text": [
      "/opt/conda/lib/python3.7/site-packages/sklearn/linear_model/_logistic.py:818: ConvergenceWarning: lbfgs failed to converge (status=1):\n",
      "STOP: TOTAL NO. of ITERATIONS REACHED LIMIT.\n",
      "\n",
      "Increase the number of iterations (max_iter) or scale the data as shown in:\n",
      "    https://scikit-learn.org/stable/modules/preprocessing.html\n",
      "Please also refer to the documentation for alternative solver options:\n",
      "    https://scikit-learn.org/stable/modules/linear_model.html#logistic-regression\n",
      "  extra_warning_msg=_LOGISTIC_SOLVER_CONVERGENCE_MSG,\n",
      "/opt/conda/lib/python3.7/site-packages/sklearn/linear_model/_logistic.py:818: ConvergenceWarning: lbfgs failed to converge (status=1):\n",
      "STOP: TOTAL NO. of ITERATIONS REACHED LIMIT.\n",
      "\n",
      "Increase the number of iterations (max_iter) or scale the data as shown in:\n",
      "    https://scikit-learn.org/stable/modules/preprocessing.html\n",
      "Please also refer to the documentation for alternative solver options:\n",
      "    https://scikit-learn.org/stable/modules/linear_model.html#logistic-regression\n",
      "  extra_warning_msg=_LOGISTIC_SOLVER_CONVERGENCE_MSG,\n",
      "/opt/conda/lib/python3.7/site-packages/sklearn/linear_model/_logistic.py:818: ConvergenceWarning: lbfgs failed to converge (status=1):\n",
      "STOP: TOTAL NO. of ITERATIONS REACHED LIMIT.\n",
      "\n",
      "Increase the number of iterations (max_iter) or scale the data as shown in:\n",
      "    https://scikit-learn.org/stable/modules/preprocessing.html\n",
      "Please also refer to the documentation for alternative solver options:\n",
      "    https://scikit-learn.org/stable/modules/linear_model.html#logistic-regression\n",
      "  extra_warning_msg=_LOGISTIC_SOLVER_CONVERGENCE_MSG,\n",
      "/opt/conda/lib/python3.7/site-packages/sklearn/linear_model/_logistic.py:818: ConvergenceWarning: lbfgs failed to converge (status=1):\n",
      "STOP: TOTAL NO. of ITERATIONS REACHED LIMIT.\n",
      "\n",
      "Increase the number of iterations (max_iter) or scale the data as shown in:\n",
      "    https://scikit-learn.org/stable/modules/preprocessing.html\n",
      "Please also refer to the documentation for alternative solver options:\n",
      "    https://scikit-learn.org/stable/modules/linear_model.html#logistic-regression\n",
      "  extra_warning_msg=_LOGISTIC_SOLVER_CONVERGENCE_MSG,\n"
     ]
    },
    {
     "data": {
      "text/plain": [
       "LogisticRegressionCV()"
      ]
     },
     "execution_count": 23,
     "metadata": {},
     "output_type": "execute_result"
    }
   ],
   "source": [
    "#baseline.fit(x_train, y_train)\n",
    "model.fit(x_train, y_train)"
   ]
  },
  {
   "cell_type": "code",
   "execution_count": 24,
   "id": "f172d2f3",
   "metadata": {
    "execution": {
     "iopub.execute_input": "2022-05-23T17:03:15.333100Z",
     "iopub.status.busy": "2022-05-23T17:03:15.330340Z",
     "iopub.status.idle": "2022-05-23T17:03:15.337771Z",
     "shell.execute_reply": "2022-05-23T17:03:15.338861Z",
     "shell.execute_reply.started": "2022-05-23T17:02:04.531858Z"
    },
    "papermill": {
     "duration": 0.070953,
     "end_time": "2022-05-23T17:03:15.339146",
     "exception": false,
     "start_time": "2022-05-23T17:03:15.268193",
     "status": "completed"
    },
    "tags": []
   },
   "outputs": [],
   "source": [
    "from sklearn.metrics import classification_report\n",
    "model_predictions = model.predict(x_test)"
   ]
  },
  {
   "cell_type": "code",
   "execution_count": 25,
   "id": "9633e715",
   "metadata": {
    "execution": {
     "iopub.execute_input": "2022-05-23T17:03:15.494165Z",
     "iopub.status.busy": "2022-05-23T17:03:15.493419Z",
     "iopub.status.idle": "2022-05-23T17:03:15.502937Z",
     "shell.execute_reply": "2022-05-23T17:03:15.503607Z",
     "shell.execute_reply.started": "2022-05-23T17:02:04.552273Z"
    },
    "papermill": {
     "duration": 0.076941,
     "end_time": "2022-05-23T17:03:15.503786",
     "exception": false,
     "start_time": "2022-05-23T17:03:15.426845",
     "status": "completed"
    },
    "tags": []
   },
   "outputs": [
    {
     "name": "stdout",
     "output_type": "stream",
     "text": [
      "              precision    recall  f1-score   support\n",
      "\n",
      "           0       0.65      0.60      0.62       885\n",
      "           1       0.66      0.71      0.68       964\n",
      "\n",
      "    accuracy                           0.66      1849\n",
      "   macro avg       0.66      0.65      0.65      1849\n",
      "weighted avg       0.66      0.66      0.65      1849\n",
      "\n"
     ]
    }
   ],
   "source": [
    "print(classification_report(y_test, model_predictions))"
   ]
  },
  {
   "cell_type": "markdown",
   "id": "66e88b9a",
   "metadata": {
    "papermill": {
     "duration": 0.048734,
     "end_time": "2022-05-23T17:03:15.599929",
     "exception": false,
     "start_time": "2022-05-23T17:03:15.551195",
     "status": "completed"
    },
    "tags": []
   },
   "source": [
    "# **Submission.**"
   ]
  },
  {
   "cell_type": "code",
   "execution_count": 26,
   "id": "2dc8a143",
   "metadata": {
    "execution": {
     "iopub.execute_input": "2022-05-23T17:03:15.699750Z",
     "iopub.status.busy": "2022-05-23T17:03:15.698677Z",
     "iopub.status.idle": "2022-05-23T17:03:15.936801Z",
     "shell.execute_reply": "2022-05-23T17:03:15.935970Z",
     "shell.execute_reply.started": "2022-05-23T17:02:04.587649Z"
    },
    "papermill": {
     "duration": 0.288932,
     "end_time": "2022-05-23T17:03:15.937002",
     "exception": false,
     "start_time": "2022-05-23T17:03:15.648070",
     "status": "completed"
    },
    "tags": []
   },
   "outputs": [
    {
     "name": "stderr",
     "output_type": "stream",
     "text": [
      "/opt/conda/lib/python3.7/site-packages/ipykernel_launcher.py:2: FutureWarning: The default value of regex will change from True to False in a future version. In addition, single character regular expressions will *not* be treated as literal strings when regex=True.\n",
      "  \n"
     ]
    }
   ],
   "source": [
    "test_df = pd.read_csv('/kaggle/input/stumbleupon/test.tsv', sep='\\t')\n",
    "test_df['is_news'] = test_df['is_news'].str.replace('?', '0').astype(int) "
   ]
  },
  {
   "cell_type": "code",
   "execution_count": 27,
   "id": "5e9ffc40",
   "metadata": {
    "execution": {
     "iopub.execute_input": "2022-05-23T17:03:16.042669Z",
     "iopub.status.busy": "2022-05-23T17:03:16.041605Z",
     "iopub.status.idle": "2022-05-23T17:03:18.229223Z",
     "shell.execute_reply": "2022-05-23T17:03:18.229773Z",
     "shell.execute_reply.started": "2022-05-23T17:02:04.765114Z"
    },
    "papermill": {
     "duration": 2.244191,
     "end_time": "2022-05-23T17:03:18.229945",
     "exception": false,
     "start_time": "2022-05-23T17:03:15.985754",
     "status": "completed"
    },
    "tags": []
   },
   "outputs": [],
   "source": [
    "sub_model = RandomForestClassifier()\n",
    "sub_model.fit(features_df, target)\n",
    "\n",
    "test_features = preprocessor.transform(test_df[df.drop('label', axis=1).columns])\n",
    "predictions = sub_model.predict(test_features)"
   ]
  },
  {
   "cell_type": "code",
   "execution_count": 28,
   "id": "45531e2c",
   "metadata": {
    "execution": {
     "iopub.execute_input": "2022-05-23T17:03:18.330883Z",
     "iopub.status.busy": "2022-05-23T17:03:18.329908Z",
     "iopub.status.idle": "2022-05-23T17:03:18.339600Z",
     "shell.execute_reply": "2022-05-23T17:03:18.340146Z",
     "shell.execute_reply.started": "2022-05-23T17:02:07.043432Z"
    },
    "papermill": {
     "duration": 0.060907,
     "end_time": "2022-05-23T17:03:18.340313",
     "exception": false,
     "start_time": "2022-05-23T17:03:18.279406",
     "status": "completed"
    },
    "tags": []
   },
   "outputs": [
    {
     "data": {
      "text/html": [
       "<div>\n",
       "<style scoped>\n",
       "    .dataframe tbody tr th:only-of-type {\n",
       "        vertical-align: middle;\n",
       "    }\n",
       "\n",
       "    .dataframe tbody tr th {\n",
       "        vertical-align: top;\n",
       "    }\n",
       "\n",
       "    .dataframe thead th {\n",
       "        text-align: right;\n",
       "    }\n",
       "</style>\n",
       "<table border=\"1\" class=\"dataframe\">\n",
       "  <thead>\n",
       "    <tr style=\"text-align: right;\">\n",
       "      <th></th>\n",
       "      <th>urlid</th>\n",
       "      <th>label</th>\n",
       "    </tr>\n",
       "  </thead>\n",
       "  <tbody>\n",
       "    <tr>\n",
       "      <th>0</th>\n",
       "      <td>5865</td>\n",
       "      <td>1</td>\n",
       "    </tr>\n",
       "    <tr>\n",
       "      <th>1</th>\n",
       "      <td>782</td>\n",
       "      <td>0</td>\n",
       "    </tr>\n",
       "    <tr>\n",
       "      <th>2</th>\n",
       "      <td>6962</td>\n",
       "      <td>0</td>\n",
       "    </tr>\n",
       "    <tr>\n",
       "      <th>3</th>\n",
       "      <td>7640</td>\n",
       "      <td>0</td>\n",
       "    </tr>\n",
       "    <tr>\n",
       "      <th>4</th>\n",
       "      <td>3589</td>\n",
       "      <td>0</td>\n",
       "    </tr>\n",
       "  </tbody>\n",
       "</table>\n",
       "</div>"
      ],
      "text/plain": [
       "   urlid  label\n",
       "0   5865      1\n",
       "1    782      0\n",
       "2   6962      0\n",
       "3   7640      0\n",
       "4   3589      0"
      ]
     },
     "execution_count": 28,
     "metadata": {},
     "output_type": "execute_result"
    }
   ],
   "source": [
    "sub_df = pd.DataFrame({'urlid' : test_df.urlid, 'label': predictions})\n",
    "sub_df.head()"
   ]
  },
  {
   "cell_type": "code",
   "execution_count": 29,
   "id": "0ce5629d",
   "metadata": {
    "execution": {
     "iopub.execute_input": "2022-05-23T17:03:18.440195Z",
     "iopub.status.busy": "2022-05-23T17:03:18.439175Z",
     "iopub.status.idle": "2022-05-23T17:03:18.452390Z",
     "shell.execute_reply": "2022-05-23T17:03:18.452981Z",
     "shell.execute_reply.started": "2022-05-23T17:02:07.056857Z"
    },
    "papermill": {
     "duration": 0.064904,
     "end_time": "2022-05-23T17:03:18.453156",
     "exception": false,
     "start_time": "2022-05-23T17:03:18.388252",
     "status": "completed"
    },
    "tags": []
   },
   "outputs": [],
   "source": [
    "sub_df.to_csv('submission.csv', index=False)"
   ]
  }
 ],
 "metadata": {
  "kernelspec": {
   "display_name": "Python 3 (ipykernel)",
   "language": "python",
   "name": "python3"
  },
  "language_info": {
   "codemirror_mode": {
    "name": "ipython",
    "version": 3
   },
   "file_extension": ".py",
   "mimetype": "text/x-python",
   "name": "python",
   "nbconvert_exporter": "python",
   "pygments_lexer": "ipython3",
   "version": "3.9.7"
  },
  "papermill": {
   "default_parameters": {},
   "duration": 25.010874,
   "end_time": "2022-05-23T17:03:19.313178",
   "environment_variables": {},
   "exception": null,
   "input_path": "__notebook__.ipynb",
   "output_path": "__notebook__.ipynb",
   "parameters": {},
   "start_time": "2022-05-23T17:02:54.302304",
   "version": "2.3.3"
  }
 },
 "nbformat": 4,
 "nbformat_minor": 5
}
